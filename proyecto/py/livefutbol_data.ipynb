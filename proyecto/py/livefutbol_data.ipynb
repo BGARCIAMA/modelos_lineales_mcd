{
 "cells": [
  {
   "cell_type": "code",
   "execution_count": 1,
   "id": "014108c5",
   "metadata": {},
   "outputs": [],
   "source": [
    "from bs4 import BeautifulSoup\n",
    "import requests\n",
    "import pandas as pd\n",
    "import os "
   ]
  },
  {
   "cell_type": "code",
   "execution_count": 2,
   "id": "57fe61d9",
   "metadata": {},
   "outputs": [
    {
     "name": "stdout",
     "output_type": "stream",
     "text": [
      "../data/LigaMX does not exists amd will be created.\n"
     ]
    }
   ],
   "source": [
    "# check if directory exists to save results, if it does not exist, create it\n",
    "path_str = \"../data/LigaMX\"\n",
    "if(os.path.exists(path_str)):\n",
    "    print(path_str + \" exists\")\n",
    "else:\n",
    "    print(path_str + \" does not exists amd will be created.\")\n",
    "    os.mkdir(path_str)"
   ]
  },
  {
   "cell_type": "code",
   "execution_count": 3,
   "id": "ccfde54b",
   "metadata": {},
   "outputs": [
    {
     "name": "stdout",
     "output_type": "stream",
     "text": [
      "[' saving save_str...../data/LigaMX/mex-primera-division-2023-2024-clausura-playoffs.csv done']\n",
      "[' saving save_str...../data/LigaMX/mex-primera-division-2023-2024-clausura.csv done']\n",
      "[' saving save_str...../data/LigaMX/mex-primera-division-2023-2024-apertura-playoffs.csv done']\n",
      "[' saving save_str...../data/LigaMX/mex-primera-division-2023-2024-apertura.csv done']\n",
      "[' saving save_str...../data/LigaMX/mex-primera-division-2022-2023-clausura-playoffs.csv done']\n",
      "[' saving save_str...../data/LigaMX/mex-primera-division-2022-2023-clausura.csv done']\n",
      "[' saving save_str...../data/LigaMX/mex-primera-division-2022-2023-apertura-playoffs.csv done']\n",
      "[' saving save_str...../data/LigaMX/mex-primera-division-2022-2023-apertura.csv done']\n",
      "[' saving save_str...../data/LigaMX/mex-primera-division-2021-2022-clausura-playoffs.csv done']\n",
      "[' saving save_str...../data/LigaMX/mex-primera-division-2021-2022-clausura.csv done']\n",
      "[' saving save_str...../data/LigaMX/mex-primera-division-2021-2022-apertura-playoffs.csv done']\n",
      "[' saving save_str...../data/LigaMX/mex-primera-division-2021-2022-apertura.csv done']\n",
      "[' saving save_str...../data/LigaMX/mex-primera-division-2020-2021-clausura-playoffs.csv done']\n",
      "[' saving save_str...../data/LigaMX/mex-primera-division-2020-2021-clausura.csv done']\n",
      "[' saving save_str...../data/LigaMX/mex-primera-division-2020-2021-apertura-playoffs.csv done']\n",
      "[' saving save_str...../data/LigaMX/mex-primera-division-2020-2021-apertura.csv done']\n"
     ]
    }
   ],
   "source": [
    "\n",
    "\n",
    "# Puedes cambiar este por el link de cualquier otra liga siempre y cuando se de la ruta /todos_partidos\n",
    "url = \"https://www.livefutbol.com/todos_partidos/mex-primera-division-2023-2024-clausura/\"\n",
    "\n",
    "response = requests.get(url)\n",
    "soup = BeautifulSoup(response.text, 'html.parser')\n",
    "\n",
    "select_element = soup.find('select', {'name': 'saison'})\n",
    "\n",
    "urls = ['https://www.livefutbol.com' + option['value'] for option in select_element.find_all('option')]\n",
    "\n",
    "temporada = [option['value'] for option in select_element.find_all('option')]\n",
    "\n",
    "matches_df =[]\n",
    "for url in urls:\n",
    "   \n",
    "    nombre = url.split('-')[-1].strip('/')\n",
    "    response = requests.get(url)\n",
    "    soup = BeautifulSoup(response.text, 'html.parser')\n",
    "    \n",
    "    matches = []\n",
    "\n",
    "    for row in soup.find_all(\"tr\"):\n",
    "        cols = row.find_all(\"td\")\n",
    "        if len(cols) > 5:  \n",
    "            match = {\n",
    "                \"date\": cols[0].get_text(strip=True),\n",
    "                \"time\": cols[1].get_text(strip=True),\n",
    "                \"torneo\": nombre,\n",
    "                \"team_home\": cols[2].get_text(strip=True),\n",
    "                \"team_away\": cols[4].get_text(strip=True),\n",
    "                \"score\": cols[5].get_text(strip=True)\n",
    "            }\n",
    "            matches.append(match)\n",
    "            \n",
    "    matches = pd.DataFrame.from_dict(matches, orient = 'columns')\n",
    "    matches = matches[matches['score']!='-:-']\n",
    "    \n",
    "    for i, row in matches.iterrows():\n",
    "        try:\n",
    "            final, halftime = row['score'].strip().split(\" \")\n",
    "            final_home, final_away = final.split(':')\n",
    "            ht_home, ht_away = halftime.strip('()').split(':')\n",
    "\n",
    "            matches.loc[i, 'final_score_home'] = int(final_home)\n",
    "            matches.loc[i, 'final_score_away'] = int(final_away)\n",
    "            matches.loc[i, 'halftime_score_home'] = int(ht_home)\n",
    "            matches.loc[i, 'halftime_score_away'] = int(ht_away)\n",
    "        except Exception as e:\n",
    "            try:\n",
    "                final = row['score'].strip()\n",
    "                final_home, final_away = final.split(':')\n",
    "                matches.loc[i, 'final_score_home'] = int(final_home)\n",
    "                matches.loc[i, 'final_score_away'] = int(final_away)\n",
    "            except:   \n",
    "                matches.loc[i, 'final_score_home'] = None\n",
    "                matches.loc[i, 'final_score_away'] = None\n",
    "                matches.loc[i, 'halftime_score_home'] = None\n",
    "                matches.loc[i, 'halftime_score_away'] = None\n",
    "        \n",
    "    matches_df.append(matches)\n",
    "    matches_df = pd.concat(matches_df)\n",
    "    temporada = url.split('/')\n",
    "    save_str = path_str + \"/\" + temporada[4] + \".csv\"\n",
    "    matches_df.to_csv(save_str)\n",
    "    print([\" saving save_str...\"  + save_str + \" done\"])\n",
    "    matches_df =[]"
   ]
  }
 ],
 "metadata": {
  "kernelspec": {
   "display_name": "Python 3 (ipykernel)",
   "language": "python",
   "name": "python3"
  },
  "language_info": {
   "codemirror_mode": {
    "name": "ipython",
    "version": 3
   },
   "file_extension": ".py",
   "mimetype": "text/x-python",
   "name": "python",
   "nbconvert_exporter": "python",
   "pygments_lexer": "ipython3",
   "version": "3.11.7"
  }
 },
 "nbformat": 4,
 "nbformat_minor": 5
}
