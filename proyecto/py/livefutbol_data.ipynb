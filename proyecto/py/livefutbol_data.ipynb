{
 "cells": [
  {
   "cell_type": "code",
   "execution_count": 8,
   "id": "014108c5",
   "metadata": {},
   "outputs": [
    {
     "ename": "TypeError",
     "evalue": "There are no type variables left in list['2021-2022-apertura', '2021-2022-clausura2021-2022-clausura-playoffs']",
     "output_type": "error",
     "traceback": [
      "\u001b[0;31m---------------------------------------------------------------------------\u001b[0m",
      "\u001b[0;31mTypeError\u001b[0m                                 Traceback (most recent call last)",
      "Cell \u001b[0;32mIn[8], line 4\u001b[0m\n\u001b[1;32m      1\u001b[0m url_sesson_list \u001b[38;5;241m=\u001b[39m \u001b[38;5;28mlist\u001b[39m[\u001b[38;5;124m\"\u001b[39m\u001b[38;5;124m2021-2022-apertura\u001b[39m\u001b[38;5;124m\"\u001b[39m, \n\u001b[1;32m      2\u001b[0m                        \u001b[38;5;124m\"\u001b[39m\u001b[38;5;124m2021-2022-clausura\u001b[39m\u001b[38;5;124m\"\u001b[39m\n\u001b[1;32m      3\u001b[0m                        \u001b[38;5;124m\"\u001b[39m\u001b[38;5;124m2021-2022-clausura-playoffs\u001b[39m\u001b[38;5;124m\"\u001b[39m]\n\u001b[0;32m----> 4\u001b[0m \u001b[38;5;28mprint\u001b[39m(\u001b[43murl_sesson_list\u001b[49m\u001b[43m[\u001b[49m\u001b[38;5;241;43m0\u001b[39;49m\u001b[43m]\u001b[49m)\n\u001b[1;32m      5\u001b[0m url \u001b[38;5;241m=\u001b[39m \u001b[38;5;124m\"\u001b[39m\u001b[38;5;124mhttps://www.livefutbol.com/todos_partidos/mex-primera-division-\u001b[39m\u001b[38;5;124m\"\u001b[39m \u001b[38;5;241m+\u001b[39m url_sesson_list[\u001b[38;5;241m0\u001b[39m] \u001b[38;5;241m+\u001b[39m \u001b[38;5;124m\"\u001b[39m\u001b[38;5;124m/\u001b[39m\u001b[38;5;124m\"\u001b[39m\n",
      "\u001b[0;31mTypeError\u001b[0m: There are no type variables left in list['2021-2022-apertura', '2021-2022-clausura2021-2022-clausura-playoffs']"
     ]
    }
   ],
   "source": [
    "url_sesson_list = list[\"2021-2022-apertura\", \n",
    "                       \"2021-2022-clausura\"\n",
    "                       \"2021-2022-clausura-playoffs\"]\n",
    "print(url_sesson_list[0])\n",
    "url = \"https://www.livefutbol.com/todos_partidos/mex-primera-division-\" + url_sesson_list[0] + \"/\"  #2021-2022-apertura/\""
   ]
  },
  {
   "cell_type": "code",
   "execution_count": 1,
   "id": "ccfde54b",
   "metadata": {},
   "outputs": [
    {
     "ename": "TypeError",
     "evalue": "list expected at most 1 argument, got 2",
     "output_type": "error",
     "traceback": [
      "\u001b[0;31m---------------------------------------------------------------------------\u001b[0m",
      "\u001b[0;31mTypeError\u001b[0m                                 Traceback (most recent call last)",
      "Cell \u001b[0;32mIn[1], line 6\u001b[0m\n\u001b[1;32m      3\u001b[0m \u001b[38;5;28;01mimport\u001b[39;00m \u001b[38;5;21;01mpandas\u001b[39;00m \u001b[38;5;28;01mas\u001b[39;00m \u001b[38;5;21;01mpd\u001b[39;00m\n\u001b[1;32m      5\u001b[0m \u001b[38;5;66;03m# Puedes cambiar este por el link de cualquier otra liga siempre y cuando se de la ruta /todos_partidos\u001b[39;00m\n\u001b[0;32m----> 6\u001b[0m url_sesson_list \u001b[38;5;241m=\u001b[39m \u001b[38;5;28;43mlist\u001b[39;49m\u001b[43m(\u001b[49m\u001b[38;5;124;43m\"\u001b[39;49m\u001b[38;5;124;43m2021-2022-apertura\u001b[39;49m\u001b[38;5;124;43m\"\u001b[39;49m\u001b[43m,\u001b[49m\u001b[43m \u001b[49m\n\u001b[1;32m      7\u001b[0m \u001b[43m                       \u001b[49m\u001b[38;5;124;43m\"\u001b[39;49m\u001b[38;5;124;43m2021-2022-clausura\u001b[39;49m\u001b[38;5;124;43m\"\u001b[39;49m\n\u001b[1;32m      8\u001b[0m \u001b[43m                       \u001b[49m\u001b[38;5;124;43m\"\u001b[39;49m\u001b[38;5;124;43m2021-2022-clausura-playoffs\u001b[39;49m\u001b[38;5;124;43m\"\u001b[39;49m\u001b[43m)\u001b[49m\n\u001b[1;32m      9\u001b[0m url \u001b[38;5;241m=\u001b[39m \u001b[38;5;124m\"\u001b[39m\u001b[38;5;124mhttps://www.livefutbol.com/todos_partidos/mex-primera-division-\u001b[39m\u001b[38;5;124m\"\u001b[39m \u001b[38;5;241m+\u001b[39m url_sesson_list[\u001b[38;5;241m0\u001b[39m] \u001b[38;5;241m+\u001b[39m \u001b[38;5;124m\"\u001b[39m\u001b[38;5;124m/\u001b[39m\u001b[38;5;124m\"\u001b[39m  \u001b[38;5;66;03m#2021-2022-apertura/\"\u001b[39;00m\n\u001b[1;32m     11\u001b[0m response \u001b[38;5;241m=\u001b[39m requests\u001b[38;5;241m.\u001b[39mget(url)\n",
      "\u001b[0;31mTypeError\u001b[0m: list expected at most 1 argument, got 2"
     ]
    }
   ],
   "source": [
    "from bs4 import BeautifulSoup\n",
    "import requests\n",
    "import pandas as pd\n",
    "\n",
    "# Puedes cambiar este por el link de cualquier otra liga siempre y cuando se de la ruta /todos_partidos\n",
    "url_sesson_list = list(\"2021-2022-apertura\", \n",
    "                       \"2021-2022-clausura\"\n",
    "                       \"2021-2022-clausura-playoffs\")\n",
    "url = \"https://www.livefutbol.com/todos_partidos/mex-primera-division-\" + url_sesson_list[0] + \"/\"  #2021-2022-apertura/\"\n",
    "\n",
    "response = requests.get(url)\n",
    "soup = BeautifulSoup(response.text, 'html.parser')\n",
    "\n",
    "select_element = soup.find('select', {'name': 'saison'})\n",
    "\n",
    "urls = ['https://www.livefutbol.com' + option['value'] for option in select_element.find_all('option')]\n",
    "\n",
    "matches_df =[]\n",
    "for url in urls:\n",
    "    nombre = url.split('-')[-1].strip('/')\n",
    "    response = requests.get(url)\n",
    "    soup = BeautifulSoup(response.text, 'html.parser')\n",
    "    \n",
    "    matches = []\n",
    "\n",
    "    for row in soup.find_all(\"tr\"):\n",
    "        cols = row.find_all(\"td\")\n",
    "        if len(cols) > 5:  \n",
    "            match = {\n",
    "                \"date\": cols[0].get_text(strip=True),\n",
    "                \"time\": cols[1].get_text(strip=True),\n",
    "                \"torneo\": nombre,\n",
    "                \"team_home\": cols[2].get_text(strip=True),\n",
    "                \"team_away\": cols[4].get_text(strip=True),\n",
    "                \"score\": cols[5].get_text(strip=True)\n",
    "            }\n",
    "            matches.append(match)\n",
    "            \n",
    "    matches = pd.DataFrame.from_dict(matches, orient = 'columns')\n",
    "    matches = matches[matches['score']!='-:-']\n",
    "    \n",
    "    for i, row in matches.iterrows():\n",
    "        try:\n",
    "            final, halftime = row['score'].strip().split(\" \")\n",
    "            final_home, final_away = final.split(':')\n",
    "            ht_home, ht_away = halftime.strip('()').split(':')\n",
    "\n",
    "            matches.loc[i, 'final_score_home'] = int(final_home)\n",
    "            matches.loc[i, 'final_score_away'] = int(final_away)\n",
    "            matches.loc[i, 'halftime_score_home'] = int(ht_home)\n",
    "            matches.loc[i, 'halftime_score_away'] = int(ht_away)\n",
    "        except Exception as e:\n",
    "            try:\n",
    "                final = row['score'].strip()\n",
    "                final_home, final_away = final.split(':')\n",
    "                matches.loc[i, 'final_score_home'] = int(final_home)\n",
    "                matches.loc[i, 'final_score_away'] = int(final_away)\n",
    "            except:   \n",
    "                matches.loc[i, 'final_score_home'] = None\n",
    "                matches.loc[i, 'final_score_away'] = None\n",
    "                matches.loc[i, 'halftime_score_home'] = None\n",
    "                matches.loc[i, 'halftime_score_away'] = None\n",
    "        \n",
    "    matches_df.append(matches)\n",
    "matches_df = pd.concat(matches_df)"
   ]
  },
  {
   "cell_type": "code",
   "execution_count": 12,
   "id": "9171eb3a",
   "metadata": {},
   "outputs": [],
   "source": [
    "matches_df.to_csv(\"temp2022-2.csv\")"
   ]
  }
 ],
 "metadata": {
  "kernelspec": {
   "display_name": "Python 3 (ipykernel)",
   "language": "python",
   "name": "python3"
  },
  "language_info": {
   "codemirror_mode": {
    "name": "ipython",
    "version": 3
   },
   "file_extension": ".py",
   "mimetype": "text/x-python",
   "name": "python",
   "nbconvert_exporter": "python",
   "pygments_lexer": "ipython3",
   "version": "3.10.13"
  }
 },
 "nbformat": 4,
 "nbformat_minor": 5
}
